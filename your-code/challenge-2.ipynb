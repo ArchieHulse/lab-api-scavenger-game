{
 "cells": [
  {
   "cell_type": "markdown",
   "id": "threaded-asbestos",
   "metadata": {},
   "source": [
    "# Challenge 2: Count Commits\n",
    "\n",
    "Count how many commits were made in the past week.\n",
    "\n",
    "Obtain all the commits made in the past week via API, which is a JSON array that contains multiple commit objects.\n",
    "\n",
    "Count how many commit objects are contained in the array."
   ]
  },
  {
   "cell_type": "markdown",
   "id": "norwegian-praise",
   "metadata": {},
   "source": [
    "⚠️ **Remember to limit your output before submission**."
   ]
  },
  {
   "cell_type": "code",
   "execution_count": 4,
   "id": "fdf24a0d",
   "metadata": {},
   "outputs": [],
   "source": [
    "import json\n",
    "import requests\n",
    "import pandas as pd"
   ]
  },
  {
   "cell_type": "code",
   "execution_count": 5,
   "id": "developing-printing",
   "metadata": {},
   "outputs": [],
   "source": [
    "#Your code\n",
    "url = 'https://api.github.com/repos/Ironhack-data-bcn-january-2023/lectures/stats/commit_activity'\n",
    "responce = requests.get(url)"
   ]
  },
  {
   "cell_type": "code",
   "execution_count": 6,
   "id": "c571d3c8",
   "metadata": {},
   "outputs": [
    {
     "data": {
      "text/plain": [
       "{'Date': 'Thu, 02 Feb 2023 15:49:13 GMT', 'Server': 'Varnish', 'Strict-Transport-Security': 'max-age=31536000; includeSubdomains; preload', 'X-Content-Type-Options': 'nosniff', 'X-Frame-Options': 'deny', 'X-XSS-Protection': '1; mode=block', 'Content-Security-Policy': \"default-src 'none'; style-src 'unsafe-inline'\", 'Access-Control-Allow-Origin': '*', 'Access-Control-Expose-Headers': 'ETag, Link, Location, Retry-After, X-GitHub-OTP, X-RateLimit-Limit, X-RateLimit-Remaining, X-RateLimit-Reset, X-RateLimit-Used, X-RateLimit-Resource, X-OAuth-Scopes, X-Accepted-OAuth-Scopes, X-Poll-Interval, X-GitHub-Media-Type, Deprecation, Sunset', 'Content-Type': 'application/json; charset=utf-8', 'Referrer-Policy': 'origin-when-cross-origin, strict-origin-when-cross-origin', 'X-GitHub-Media-Type': 'github.v3; format=json', 'X-RateLimit-Limit': '60', 'X-RateLimit-Remaining': '0', 'X-RateLimit-Reset': '1675354085', 'X-RateLimit-Resource': 'core', 'X-RateLimit-Used': '60', 'Content-Length': '279', 'X-GitHub-Request-Id': 'E870:BBD2:11719A4:11B7DFA:63DBDB79'}"
      ]
     },
     "execution_count": 6,
     "metadata": {},
     "output_type": "execute_result"
    }
   ],
   "source": [
    "responce.headers"
   ]
  },
  {
   "cell_type": "code",
   "execution_count": 38,
   "id": "267cd758",
   "metadata": {},
   "outputs": [
    {
     "data": {
      "text/plain": [
       "[{'days': [0, 0, 0, 0, 0, 0, 0], 'total': 0, 'week': 1644105600},\n",
       " {'days': [0, 0, 0, 0, 0, 0, 0], 'total': 0, 'week': 1644710400},\n",
       " {'days': [0, 0, 0, 0, 0, 0, 0], 'total': 0, 'week': 1645315200},\n",
       " {'days': [0, 0, 0, 0, 0, 0, 0], 'total': 0, 'week': 1645920000},\n",
       " {'days': [0, 0, 0, 0, 0, 0, 0], 'total': 0, 'week': 1646524800},\n",
       " {'days': [0, 0, 0, 0, 0, 0, 0], 'total': 0, 'week': 1647129600},\n",
       " {'days': [0, 0, 0, 0, 0, 0, 0], 'total': 0, 'week': 1647730800},\n",
       " {'days': [0, 0, 0, 0, 0, 0, 0], 'total': 0, 'week': 1648335600},\n",
       " {'days': [0, 0, 0, 0, 0, 0, 0], 'total': 0, 'week': 1648940400},\n",
       " {'days': [0, 0, 0, 0, 0, 0, 0], 'total': 0, 'week': 1649545200},\n",
       " {'days': [0, 0, 0, 0, 0, 0, 0], 'total': 0, 'week': 1650150000},\n",
       " {'days': [0, 0, 0, 0, 0, 0, 0], 'total': 0, 'week': 1650754800},\n",
       " {'days': [0, 0, 0, 0, 0, 0, 0], 'total': 0, 'week': 1651359600},\n",
       " {'days': [0, 0, 0, 0, 0, 0, 0], 'total': 0, 'week': 1651964400},\n",
       " {'days': [0, 0, 0, 0, 0, 0, 0], 'total': 0, 'week': 1652569200},\n",
       " {'days': [0, 0, 0, 0, 0, 0, 0], 'total': 0, 'week': 1653174000},\n",
       " {'days': [0, 0, 0, 0, 0, 0, 0], 'total': 0, 'week': 1653778800},\n",
       " {'days': [0, 0, 0, 0, 0, 0, 0], 'total': 0, 'week': 1654383600},\n",
       " {'days': [0, 0, 0, 0, 0, 0, 0], 'total': 0, 'week': 1654988400},\n",
       " {'days': [0, 0, 0, 0, 0, 0, 0], 'total': 0, 'week': 1655593200},\n",
       " {'days': [0, 0, 0, 0, 0, 0, 0], 'total': 0, 'week': 1656198000},\n",
       " {'days': [0, 0, 0, 0, 0, 0, 0], 'total': 0, 'week': 1656802800},\n",
       " {'days': [0, 0, 0, 0, 0, 0, 0], 'total': 0, 'week': 1657407600},\n",
       " {'days': [0, 0, 0, 0, 0, 0, 0], 'total': 0, 'week': 1658012400},\n",
       " {'days': [0, 0, 0, 0, 0, 0, 0], 'total': 0, 'week': 1658617200},\n",
       " {'days': [0, 0, 0, 0, 0, 0, 0], 'total': 0, 'week': 1659222000},\n",
       " {'days': [0, 0, 0, 0, 0, 0, 0], 'total': 0, 'week': 1659826800},\n",
       " {'days': [0, 0, 0, 0, 0, 0, 0], 'total': 0, 'week': 1660431600},\n",
       " {'days': [0, 0, 0, 0, 0, 0, 0], 'total': 0, 'week': 1661036400},\n",
       " {'days': [0, 0, 0, 0, 0, 0, 0], 'total': 0, 'week': 1661641200},\n",
       " {'days': [0, 0, 0, 0, 0, 0, 0], 'total': 0, 'week': 1662246000},\n",
       " {'days': [0, 0, 0, 0, 0, 0, 0], 'total': 0, 'week': 1662850800},\n",
       " {'days': [0, 0, 0, 0, 0, 0, 0], 'total': 0, 'week': 1663455600},\n",
       " {'days': [0, 0, 0, 0, 0, 0, 0], 'total': 0, 'week': 1664060400},\n",
       " {'days': [0, 0, 0, 0, 0, 0, 0], 'total': 0, 'week': 1664665200},\n",
       " {'days': [0, 0, 0, 0, 0, 0, 0], 'total': 0, 'week': 1665270000},\n",
       " {'days': [0, 0, 0, 0, 0, 0, 0], 'total': 0, 'week': 1665874800},\n",
       " {'days': [0, 0, 0, 0, 0, 0, 0], 'total': 0, 'week': 1666479600},\n",
       " {'days': [0, 0, 0, 0, 0, 0, 0], 'total': 0, 'week': 1667084400},\n",
       " {'days': [0, 0, 0, 0, 0, 0, 0], 'total': 0, 'week': 1667689200},\n",
       " {'days': [0, 0, 0, 0, 0, 0, 0], 'total': 0, 'week': 1668297600},\n",
       " {'days': [0, 0, 0, 0, 0, 0, 0], 'total': 0, 'week': 1668902400},\n",
       " {'days': [0, 0, 0, 0, 0, 0, 0], 'total': 0, 'week': 1669507200},\n",
       " {'days': [0, 0, 0, 0, 0, 0, 0], 'total': 0, 'week': 1670112000},\n",
       " {'days': [0, 0, 0, 0, 0, 0, 0], 'total': 0, 'week': 1670716800},\n",
       " {'days': [0, 0, 0, 0, 0, 0, 0], 'total': 0, 'week': 1671321600},\n",
       " {'days': [0, 0, 0, 0, 0, 0, 0], 'total': 0, 'week': 1671926400},\n",
       " {'days': [0, 0, 0, 0, 0, 0, 0], 'total': 0, 'week': 1672531200},\n",
       " {'days': [0, 0, 1, 0, 0, 0, 0], 'total': 1, 'week': 1673136000},\n",
       " {'days': [1, 6, 14, 10, 6, 6, 0], 'total': 43, 'week': 1673740800},\n",
       " {'days': [4, 6, 7, 9, 9, 5, 0], 'total': 40, 'week': 1674345600},\n",
       " {'days': [0, 1, 4, 2, 6, 0, 0], 'total': 13, 'week': 1674950400}]"
      ]
     },
     "execution_count": 38,
     "metadata": {},
     "output_type": "execute_result"
    }
   ],
   "source": [
    "github_token = os.getenv(\"github_token\")\n",
    "parameters = {\"Authorization\": f\"token {github_token}\"}\n",
    "res = requests.get(url, params = parameters).json()\n",
    "res"
   ]
  },
  {
   "cell_type": "code",
   "execution_count": 43,
   "id": "creative-stable",
   "metadata": {},
   "outputs": [
    {
     "data": {
      "text/plain": [
       "40"
      ]
     },
     "execution_count": 43,
     "metadata": {},
     "output_type": "execute_result"
    }
   ],
   "source": [
    "res[-2]['total']"
   ]
  },
  {
   "cell_type": "code",
   "execution_count": 35,
   "id": "ongoing-taylor",
   "metadata": {},
   "outputs": [],
   "source": [
    "#need to extract key: 'total' from the dictionary inside the list 'res'\n",
    "\n"
   ]
  }
 ],
 "metadata": {
  "kernelspec": {
   "display_name": "ironhack",
   "language": "python",
   "name": "python3"
  },
  "language_info": {
   "codemirror_mode": {
    "name": "ipython",
    "version": 3
   },
   "file_extension": ".py",
   "mimetype": "text/x-python",
   "name": "python",
   "nbconvert_exporter": "python",
   "pygments_lexer": "ipython3",
   "version": "3.9.12"
  },
  "toc": {
   "base_numbering": 1,
   "nav_menu": {},
   "number_sections": true,
   "sideBar": true,
   "skip_h1_title": true,
   "title_cell": "Table of Contents",
   "title_sidebar": "Contents",
   "toc_cell": false,
   "toc_position": {
    "height": "calc(100% - 180px)",
    "left": "10px",
    "top": "150px",
    "width": "288px"
   },
   "toc_section_display": true,
   "toc_window_display": true
  },
  "vscode": {
   "interpreter": {
    "hash": "82abc7b490bdca0a0926c123976b296da33c0333d87d0021eb92d39b0b4d3cac"
   }
  }
 },
 "nbformat": 4,
 "nbformat_minor": 5
}
